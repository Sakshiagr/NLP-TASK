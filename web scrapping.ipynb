{
  "nbformat": 4,
  "nbformat_minor": 0,
  "metadata": {
    "colab": {
      "provenance": []
    },
    "kernelspec": {
      "name": "python3",
      "display_name": "Python 3"
    },
    "language_info": {
      "name": "python"
    }
  },
  "cells": [
    {
      "cell_type": "code",
      "execution_count": 1,
      "metadata": {
        "id": "XcB69VF2fq6Q"
      },
      "outputs": [],
      "source": [
        "from urllib import request"
      ]
    },
    {
      "cell_type": "code",
      "source": [
        "url=\"https://www.gutenberg.org/files/98/98-0.txt\""
      ],
      "metadata": {
        "id": "-g7bZWftfw6Z"
      },
      "execution_count": 2,
      "outputs": []
    },
    {
      "cell_type": "code",
      "source": [
        "response=request.urlopen(url)"
      ],
      "metadata": {
        "id": "kv2EmoX3f1wQ"
      },
      "execution_count": 3,
      "outputs": []
    },
    {
      "cell_type": "code",
      "source": [
        "raw=response.read().decode('utf8')"
      ],
      "metadata": {
        "id": "hTL7jcWEf3C_"
      },
      "execution_count": 4,
      "outputs": []
    },
    {
      "cell_type": "code",
      "source": [
        "import nltk"
      ],
      "metadata": {
        "id": "JOKKojM1f5aw"
      },
      "execution_count": 5,
      "outputs": []
    },
    {
      "cell_type": "code",
      "source": [
        "nltk.download('punkt')"
      ],
      "metadata": {
        "colab": {
          "base_uri": "https://localhost:8080/"
        },
        "id": "NRmYpGTVgMc6",
        "outputId": "ae12fcf6-72eb-45cb-9ee0-d37d66e3a0ac"
      },
      "execution_count": 9,
      "outputs": [
        {
          "output_type": "stream",
          "name": "stderr",
          "text": [
            "[nltk_data] Downloading package punkt to /root/nltk_data...\n",
            "[nltk_data]   Unzipping tokenizers/punkt.zip.\n"
          ]
        },
        {
          "output_type": "execute_result",
          "data": {
            "text/plain": [
              "True"
            ]
          },
          "metadata": {},
          "execution_count": 9
        }
      ]
    },
    {
      "cell_type": "code",
      "source": [
        "from nltk.tokenize import word_tokenize"
      ],
      "metadata": {
        "id": "InUI-JKrf71e"
      },
      "execution_count": 10,
      "outputs": []
    },
    {
      "cell_type": "code",
      "source": [
        "tokens=word_tokenize(raw)"
      ],
      "metadata": {
        "id": "R_WoPfDhf-P2"
      },
      "execution_count": 12,
      "outputs": []
    },
    {
      "cell_type": "code",
      "source": [
        "print(tokens[:20])"
      ],
      "metadata": {
        "colab": {
          "base_uri": "https://localhost:8080/"
        },
        "id": "U-uzISoegAxL",
        "outputId": "2bc273ce-c525-43d8-f430-9be208e52c29"
      },
      "execution_count": 13,
      "outputs": [
        {
          "output_type": "stream",
          "name": "stdout",
          "text": [
            "['\\ufeffThe', 'Project', 'Gutenberg', 'eBook', 'of', 'A', 'Tale', 'of', 'Two', 'Cities', ',', 'by', 'Charles', 'Dickens', 'This', 'eBook', 'is', 'for', 'the', 'use']\n"
          ]
        }
      ]
    },
    {
      "cell_type": "code",
      "source": [
        "from nltk.stem import PorterStemmer \n",
        "porter=PorterStemmer ()\n",
        "porter.stem('walking')"
      ],
      "metadata": {
        "id": "yZ1vPdLKgbpP",
        "outputId": "4fd1cf8f-c546-4680-d7cd-97cd3ccffa5b",
        "colab": {
          "base_uri": "https://localhost:8080/",
          "height": 35
        }
      },
      "execution_count": 14,
      "outputs": [
        {
          "output_type": "execute_result",
          "data": {
            "text/plain": [
              "'walk'"
            ],
            "application/vnd.google.colaboratory.intrinsic+json": {
              "type": "string"
            }
          },
          "metadata": {},
          "execution_count": 14
        }
      ]
    },
    {
      "cell_type": "code",
      "source": [
        "from nltk.stem import PorterStemmer \n",
        "porter=PorterStemmer ()\n",
        "porter.stem('cacti')"
      ],
      "metadata": {
        "id": "gybQzvZIhufR",
        "outputId": "2c6e607b-5726-4b7e-e905-355542494652",
        "colab": {
          "base_uri": "https://localhost:8080/",
          "height": 35
        }
      },
      "execution_count": 15,
      "outputs": [
        {
          "output_type": "execute_result",
          "data": {
            "text/plain": [
              "'cacti'"
            ],
            "application/vnd.google.colaboratory.intrinsic+json": {
              "type": "string"
            }
          },
          "metadata": {},
          "execution_count": 15
        }
      ]
    },
    {
      "cell_type": "code",
      "source": [
        "from nltk.stem import PorterStemmer \n",
        "porter=PorterStemmer ()\n",
        "porter.stem('happiness')"
      ],
      "metadata": {
        "id": "1jkxMbDjiF2Z",
        "outputId": "50205ccd-0663-4615-db45-f402e067b1e9",
        "colab": {
          "base_uri": "https://localhost:8080/",
          "height": 35
        }
      },
      "execution_count": 17,
      "outputs": [
        {
          "output_type": "execute_result",
          "data": {
            "text/plain": [
              "'happi'"
            ],
            "application/vnd.google.colaboratory.intrinsic+json": {
              "type": "string"
            }
          },
          "metadata": {},
          "execution_count": 17
        }
      ]
    },
    {
      "cell_type": "code",
      "source": [
        "from nltk.stem import LancasterStemmer\n",
        "porter=LancasterStemmer ()\n",
        "porter.stem('happiness')"
      ],
      "metadata": {
        "id": "F7SsxLiUh6D8",
        "outputId": "62d20a61-99ff-4d38-c083-bad594c80934",
        "colab": {
          "base_uri": "https://localhost:8080/",
          "height": 35
        }
      },
      "execution_count": 16,
      "outputs": [
        {
          "output_type": "execute_result",
          "data": {
            "text/plain": [
              "'happy'"
            ],
            "application/vnd.google.colaboratory.intrinsic+json": {
              "type": "string"
            }
          },
          "metadata": {},
          "execution_count": 16
        }
      ]
    },
    {
      "cell_type": "code",
      "source": [
        "from nltk.stem import RegexpStemmer \n",
        "porter=RegexpStemmer  ('ing')\n",
        "porter.stem('singing')"
      ],
      "metadata": {
        "id": "QtPwXCCLiKvb",
        "outputId": "4ad076a7-de7a-4011-e586-9e8a1f45311f",
        "colab": {
          "base_uri": "https://localhost:8080/",
          "height": 35
        }
      },
      "execution_count": 18,
      "outputs": [
        {
          "output_type": "execute_result",
          "data": {
            "text/plain": [
              "'s'"
            ],
            "application/vnd.google.colaboratory.intrinsic+json": {
              "type": "string"
            }
          },
          "metadata": {},
          "execution_count": 18
        }
      ]
    },
    {
      "cell_type": "code",
      "source": [
        "from nltk.stem import SnowballStemmer\n",
        "porter=SnowballStemmer  ('french')\n",
        "porter.stem('detester')"
      ],
      "metadata": {
        "id": "MSwor_qNix5Y",
        "outputId": "a85917ed-91d8-4198-9453-399212875e9f",
        "colab": {
          "base_uri": "https://localhost:8080/",
          "height": 35
        }
      },
      "execution_count": 20,
      "outputs": [
        {
          "output_type": "execute_result",
          "data": {
            "text/plain": [
              "'detest'"
            ],
            "application/vnd.google.colaboratory.intrinsic+json": {
              "type": "string"
            }
          },
          "metadata": {},
          "execution_count": 20
        }
      ]
    },
    {
      "cell_type": "code",
      "source": [
        "porter=PorterStemmer()\n",
        "text=\"It was the best of times, it was the worst of times, it was the age of wisdom, it was the age of foolishness, it was the epoch of belief, it was the epoch of incredulity, it was the season of Light, it was the\"\n",
        "text= [porter.stem(token) for token in text.split(\" \")]\n"
      ],
      "metadata": {
        "id": "2osvJnojkYRx"
      },
      "execution_count": 22,
      "outputs": []
    },
    {
      "cell_type": "code",
      "source": [
        "print(\" \".join(text))"
      ],
      "metadata": {
        "id": "LbY-CRjHk0-s",
        "outputId": "6f30cbee-5775-4b05-9302-70c576ff7278",
        "colab": {
          "base_uri": "https://localhost:8080/"
        }
      },
      "execution_count": 24,
      "outputs": [
        {
          "output_type": "stream",
          "name": "stdout",
          "text": [
            "it wa the best of times, it wa the worst of times, it wa the age of wisdom, it wa the age of foolishness, it wa the epoch of belief, it wa the epoch of incredulity, it wa the season of light, it wa the\n",
            "it wa the best of times, it wa the worst of times, it wa the age of wisdom, it wa the age of foolishness, it wa the epoch of belief, it wa the epoch of incredulity, it wa the season of light, it wa the\n"
          ]
        }
      ]
    }
  ]
}